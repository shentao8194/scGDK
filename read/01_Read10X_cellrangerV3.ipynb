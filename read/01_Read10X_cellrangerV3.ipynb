{
 "cells": [
  {
   "cell_type": "code",
   "execution_count": 2,
   "metadata": {},
   "outputs": [
    {
     "name": "stdout",
     "output_type": "stream",
     "text": [
      "Skipped sample: GSM7119489 (not enough files)\n",
      "Skipped sample: GSM7119488 (not enough files)\n",
      "Skipped sample: GSM7119490 (not enough files)\n",
      "Skipped sample: GSM7119493_18pcw (not enough files)\n",
      "Skipped sample: GSM7119492 (not enough files)\n",
      "Skipped sample: GSM7119496_26pcw_n (not enough files)\n",
      "Skipped sample: GSM7119494_20pcw (not enough files)\n",
      "Skipped sample: GSM7119495_23pcw (not enough files)\n",
      "Skipped sample: GSM7119497_26pcw_o (not enough files)\n",
      "Skipped sample: GSM7119491 (not enough files)\n"
     ]
    }
   ],
   "source": [
    "# 导入必要的库\n",
    "import scanpy as sc\n",
    "import pandas as pd\n",
    "import numpy as np\n",
    "import scipy.sparse\n",
    "import os\n",
    "import math\n",
    "import itertools\n",
    "import warnings\n",
    "from tqdm import tqdm\n",
    "import matplotlib.pyplot as plt\n",
    "import clustree\n",
    "import shutil\n",
    "\n",
    "import requests, zipfile\n",
    "\n",
    "import anndata as ad\n",
    "import scanpy as sc\n",
    "\n",
    "\n",
    "# 定义原始文件目录\n",
    "raw_dir = r\"D:\\data\\GDK_sc_retina\\raw_data_normal\\GSE228370\"\n",
    "#解压缩\n",
    "import tarfile\n",
    "\n",
    "def extract_raw_tar_files(folder_path):\n",
    "    for filename in os.listdir(folder_path):\n",
    "        if 'RAW' in filename:\n",
    "            file_path = os.path.join(folder_path, filename)\n",
    "            if os.path.isfile(file_path):\n",
    "                try:\n",
    "                    with tarfile.open(file_path, 'r:*') as tar:\n",
    "                        tar.extractall(path=folder_path)\n",
    "                    print(f\"成功解压: {filename} 到 {folder_path}\")\n",
    "                except tarfile.TarError as e:\n",
    "                    print(f\"解压失败 {filename}: {e}\")\n",
    "\n",
    "#extract_raw_tar_files(raw_dir)\n",
    "\n",
    "# 获取所有文件\n",
    "all_files = os.listdir(raw_dir)\n",
    "\n",
    "# 提取样本名（去掉后缀）\n",
    "samples = [f.split('.')[0].rsplit('_', 1)[0] for f in all_files if f.startswith('GSM')]\n",
    "\n",
    "# 去重样本名\n",
    "samples = list(set(samples))\n",
    "\n",
    "# 遍历每个样本\n",
    "for sample in samples:\n",
    "    # 找到与当前样本相关的文件\n",
    "    related_files = [f for f in all_files if sample in f]\n",
    "    \n",
    "    # 确保找到的文件数量为 3（barcodes.tsv.gz, features.tsv.gz, matrix.mtx.gz）\n",
    "    if len(related_files) == 3:\n",
    "        # 创建目标文件夹\n",
    "        target_folder = os.path.join(raw_dir, sample)\n",
    "        os.makedirs(target_folder, exist_ok=True)\n",
    "        \n",
    "        # 重命名并移动文件\n",
    "        for file in related_files:\n",
    "            # 确定目标文件名\n",
    "            if \"barcodes\" in file:\n",
    "                target_file = os.path.join(target_folder, \"barcodes.tsv.gz\")\n",
    "            elif \"features\" in file:\n",
    "                target_file = os.path.join(target_folder, \"features.tsv.gz\")\n",
    "            elif \"matrix\" in file:\n",
    "                target_file = os.path.join(target_folder, \"matrix.mtx.gz\")\n",
    "            elif \"genes\" in file:\n",
    "                target_file = os.path.join(target_folder, \"features.tsv.gz\")\n",
    "            else:\n",
    "                continue  # 跳过不符合条件的文件\n",
    "            \n",
    "            # 检查文件是否存在\n",
    "            if os.path.exists(os.path.join(raw_dir, file)):\n",
    "                # 移动并重命名文件\n",
    "                shutil.move(os.path.join(raw_dir, file), target_file)\n",
    "            else:\n",
    "                print(f\"File not found: {file}\")\n",
    "        \n",
    "        print(f\"Processed sample: {sample}\")\n",
    "    else:\n",
    "        print(f\"Skipped sample: {sample} (not enough files)\")"
   ]
  },
  {
   "cell_type": "code",
   "execution_count": 3,
   "metadata": {},
   "outputs": [
    {
     "name": "stdout",
     "output_type": "stream",
     "text": [
      "Processing sample: GSM7119488_9pcw_scRNA\n",
      "Processing sample: GSM7119489_10pcw_scRNA\n",
      "Processing sample: GSM7119490_11pcw_scRNA\n",
      "Processing sample: GSM7119491_14pcw_scRNA\n",
      "Processing sample: GSM7119492_15pcw_scRNA\n",
      "Processing sample: GSM7119493_18pcw_scRNA\n",
      "Processing sample: GSM7119494_20pcw_scRNA\n",
      "Processing sample: GSM7119495_23pcw_scRNA\n",
      "Processing sample: GSM7119496_26pcw_n_scRNA\n",
      "Processing sample: GSM7119497_26pcw_o_scRNA\n",
      "Processed 10 samples.\n"
     ]
    }
   ],
   "source": [
    "\n",
    "\n",
    "# 列出目录下的所有样本文件夹\n",
    "samples = [f for f in os.listdir(raw_dir) if os.path.isdir(os.path.join(raw_dir, f))]\n",
    "\n",
    "# 存储每个样本的 AnnData 对象\n",
    "adata_list = []\n",
    "\n",
    "# 遍历每个样本\n",
    "for sample in samples:\n",
    "    print(f\"Processing sample: {sample}\")\n",
    "    \n",
    "    # 构建样本路径\n",
    "    sample_dir = os.path.join(raw_dir, sample)\n",
    "    \n",
    "    # 读取 10X Genomics 数据\n",
    "    adata = sc.read_10x_mtx(\n",
    "        sample_dir,  # 样本文件夹路径\n",
    "        var_names='gene_symbols',  # 使用基因符号作为变量名\n",
    "        cache=True  # 缓存数据以加快读取速度\n",
    "    )\n",
    "    \n",
    "    # 过滤数据\n",
    "    sc.pp.filter_cells(adata, min_genes=300)  # 保留至少表达 300 个基因的细胞\n",
    "    sc.pp.filter_genes(adata, min_cells=5)  # 保留至少在 5 个细胞中表达的基因\n",
    "    \n",
    "    # 添加样本信息\n",
    "    adata.obs['Sample'] = sample\n",
    "    \n",
    "    # 将 AnnData 对象添加到列表\n",
    "    adata_list.append(adata)\n",
    "\n",
    "# 打印处理结果\n",
    "print(f\"Processed {len(adata_list)} samples.\")\n"
   ]
  },
  {
   "cell_type": "code",
   "execution_count": 4,
   "metadata": {},
   "outputs": [],
   "source": [
    "adatas=adata_list"
   ]
  },
  {
   "cell_type": "code",
   "execution_count": 5,
   "metadata": {},
   "outputs": [
    {
     "name": "stderr",
     "output_type": "stream",
     "text": [
      "C:\\Users\\zhyx\\AppData\\Local\\Temp\\ipykernel_25992\\2216498342.py:2: FutureWarning: Use anndata.concat instead of AnnData.concatenate, AnnData.concatenate is deprecated and will be removed in the future. See the tutorial for concat at: https://anndata.readthedocs.io/en/latest/concatenation.html\n",
      "  all_data = adatas[0].concatenate(adatas[1:], batch_key='Sample')\n"
     ]
    },
    {
     "name": "stdout",
     "output_type": "stream",
     "text": [
      "AnnData object with n_obs × n_vars = 93070 × 17495\n",
      "    obs: 'n_genes', 'Sample'\n",
      "    var: 'gene_ids', 'feature_types', 'n_cells-0', 'n_cells-1', 'n_cells-2', 'n_cells-3', 'n_cells-4', 'n_cells-5', 'n_cells-6', 'n_cells-7', 'n_cells-8', 'n_cells-9'\n"
     ]
    }
   ],
   "source": [
    "# 合并所有AnnData对象\n",
    "all_data = adatas[0].concatenate(adatas[1:], batch_key='Sample')\n",
    "\n",
    "# 可选：若需将batch_key的批次名称设为原Sample值，可添加以下代码\n",
    "# 提取每个adata的Sample值（假设每个adata的Sample值唯一且恒定）\n",
    "batch_categories = [adata.obs['Sample'].iloc[0] for adata in adatas]\n",
    "# 替换批次编号为实际Sample名称\n",
    "all_data.obs['Sample'] = all_data.obs['Sample'].astype('category').cat.rename_categories(batch_categories)\n",
    "\n",
    "# 打印合并后的数据\n",
    "print(all_data)"
   ]
  },
  {
   "cell_type": "code",
   "execution_count": 6,
   "metadata": {
    "scrolled": true
   },
   "outputs": [
    {
     "data": {
      "text/plain": [
       "AAACCCAAGCCTGACC-1-0       GSM7119488_9pcw_scRNA\n",
       "AAACCCAAGCGTCTGC-1-0       GSM7119488_9pcw_scRNA\n",
       "AAACCCAAGGTCACTT-1-0       GSM7119488_9pcw_scRNA\n",
       "AAACCCACAAATGATG-1-0       GSM7119488_9pcw_scRNA\n",
       "AAACCCACAAGCAGGT-1-0       GSM7119488_9pcw_scRNA\n",
       "                                  ...           \n",
       "TTTGTTGAGGGCGAAG-1-9    GSM7119497_26pcw_o_scRNA\n",
       "TTTGTTGAGTAATTGG-1-9    GSM7119497_26pcw_o_scRNA\n",
       "TTTGTTGCACTAGGCC-1-9    GSM7119497_26pcw_o_scRNA\n",
       "TTTGTTGTCACCCTTG-1-9    GSM7119497_26pcw_o_scRNA\n",
       "TTTGTTGTCTGATGGT-1-9    GSM7119497_26pcw_o_scRNA\n",
       "Name: Sample, Length: 93070, dtype: category\n",
       "Categories (10, object): ['GSM7119488_9pcw_scRNA', 'GSM7119489_10pcw_scRNA', 'GSM7119490_11pcw_scRNA', 'GSM7119491_14pcw_scRNA', ..., 'GSM7119494_20pcw_scRNA', 'GSM7119495_23pcw_scRNA', 'GSM7119496_26pcw_n_scRNA', 'GSM7119497_26pcw_o_scRNA']"
      ]
     },
     "execution_count": 6,
     "metadata": {},
     "output_type": "execute_result"
    }
   ],
   "source": [
    "all_data.obs[\"Sample\"]"
   ]
  },
  {
   "cell_type": "code",
   "execution_count": null,
   "metadata": {},
   "outputs": [],
   "source": []
  },
  {
   "cell_type": "code",
   "execution_count": null,
   "metadata": {},
   "outputs": [],
   "source": [
    "# 假设 all_data.obs 中有 'Sample' 列存储样本分组信息\n",
    "print(\"样本分组示例:\\n\", all_data.obs['Sample'].head())\n",
    "\n",
    "# 步骤1：创建样本分组到健康状态的映射字典（根据实际数据修改）\n",
    "sample_to_health = {\n",
    "    'GSM5866081': 'glaucoma',\n",
    "}\n",
    "\n",
    "# 步骤2：批量添加健康状态列\n",
    "all_data.obs['health_status'] = (\n",
    "    all_data.obs['Sample']  # 选择样本分组列\n",
    "    .map(sample_to_health)  # 应用映射字典\n",
    "    .astype('category')  # 转换为分类变量节省内存\n",
    ")\n",
    "\n",
    "# 步骤3：验证映射完整性\n",
    "# 检查是否有未映射的样本组\n",
    "unmapped_samples = all_data.obs[all_data.obs['health_status'].isnull()]['Sample'].unique()\n",
    "if len(unmapped_samples) > 0:\n",
    "    print(f\"⚠️ 发现未映射样本组: {unmapped_samples}\")\n",
    "else:\n",
    "    print(\"✅ 所有样本组均成功映射\")\n",
    "\n",
    "# 步骤4：查看健康状态分布\n",
    "print(\"\\n健康状态分布统计:\")\n",
    "print(all_data.obs['health_status'].value_counts(dropna=False))\n"
   ]
  },
  {
   "cell_type": "code",
   "execution_count": null,
   "metadata": {},
   "outputs": [],
   "source": [
    "all_data.var"
   ]
  },
  {
   "cell_type": "code",
   "execution_count": null,
   "metadata": {},
   "outputs": [],
   "source": [
    "all_data.obs"
   ]
  },
  {
   "cell_type": "code",
   "execution_count": null,
   "metadata": {},
   "outputs": [],
   "source": [
    "\n",
    "# 获取 var 列名\n",
    "var_columns = all_data.var.columns\n",
    "\n",
    "# 去重并标准化 var 列名\n",
    "new_var_columns = []\n",
    "seen = set()\n",
    "for col in var_columns:\n",
    "    base_col = col.split('-')[0]  # 去掉后缀\n",
    "    if base_col not in seen:\n",
    "        new_var_columns.append(base_col)\n",
    "        seen.add(base_col)\n",
    "    else:\n",
    "        # 如果列名重复，添加唯一后缀\n",
    "        suffix = 1\n",
    "        while f\"{base_col}_{suffix}\" in seen:\n",
    "            suffix += 1\n",
    "        new_var_columns.append(f\"{base_col}_{suffix}\")\n",
    "        seen.add(f\"{base_col}_{suffix}\")\n",
    "\n",
    "# 更新 var 列名\n",
    "all_data.var.columns = new_var_columns\n",
    "\n",
    "# 查看更新后的 var 列名\n",
    "print(\"Updated var columns:\", all_data.var.columns)\n",
    "# 删除重复的列（例如只保留第一个 gene_ids 和 feature_types）\n",
    "columns_to_keep = ['gene_ids', 'feature_types', 'n_cells']\n",
    "all_data.var = all_data.var[columns_to_keep]\n",
    "\n",
    "# 查看清理后的 var 数据\n",
    "print(\"Cleaned var data:\", all_data.var.head())\n",
    "# 查看 obs 数据\n",
    "print(\"Cleaned obs data:\", all_data.obs.head())\n",
    "\n",
    "# 查看 var 数据\n",
    "print(\"Cleaned var data:\", all_data.var.head())\n",
    "\n",
    "# 查看 AnnData 对象\n",
    "print(all_data)\n",
    "all_data.write(\"adata_combined.h5ad\")"
   ]
  },
  {
   "cell_type": "code",
   "execution_count": null,
   "metadata": {},
   "outputs": [],
   "source": []
  }
 ],
 "metadata": {
  "kernelspec": {
   "display_name": "scvi-env",
   "language": "python",
   "name": "python3"
  },
  "language_info": {
   "codemirror_mode": {
    "name": "ipython",
    "version": 3
   },
   "file_extension": ".py",
   "mimetype": "text/x-python",
   "name": "python",
   "nbconvert_exporter": "python",
   "pygments_lexer": "ipython3",
   "version": "3.12.8"
  }
 },
 "nbformat": 4,
 "nbformat_minor": 4
}
